{
 "cells": [
  {
   "cell_type": "markdown",
   "metadata": {},
   "source": [
    "<h1>Shark Attack Research using Decision Tree Model</h1>\n",
    "\n",
    "<p>This research was done to understand the presence of sharks during tourist seaons. Locations considered for this reserach were middle Atlantic and south eastern coastal waters, specifically North Carolina and South Carolina.</p>\n",
    "\n",
    "<p>Why decision trees?</p>\n",
    "<p><ul>\n",
    "    <li>Easy to understand\n",
    "    <li>Easy to generated rules\n",
    "    <li>They are very fast to build and test\n",
    "    <li>Easy to visualize \n",
    "    <li>Output of a decision tree can be easily interpreted (by humans) as rules\n",
    "    </ul></p>\n",
    "    \n",
    "<p> The library used is Sci-kit Learn which facilitates general purpose machine learning in Python. Model is build using decision tree classifier in python using scikit-learn machine learning packages.</p>\n",
    "\n",
    "<p>This model uses 8 attributes 1 as the target attribute and 7 as feature attributes. </p>\n",
    "<p>Target Attribute: Attack</p>\n",
    "<p>Feature Attribute:<ul>\n",
    "    <li>Precipitation_minmax\n",
    "    <li>WindSpeed_minmax\n",
    "    <li>Salinity_minmax\n",
    "    <li>Turbidity_minmax\n",
    "    <li>WaterTemp_minmax\n",
    "    <li>Turtle_minmax\n",
    "    <li>Crablandings_minmax</ul></p>"
   ]
  },
  {
   "cell_type": "markdown",
   "metadata": {},
   "source": [
    "<h2>Following Python packages are used</h2>\n",
    "<p>\n",
    "\n",
    "<li><strong>NumPy</strong>\n",
    "<ul>\n",
    "    <li>NumPy is a Numeric Python module. It provides fast mathematical functions.</li>\n",
    "    <li>We used numpy to read data files into numpy arrays and data manipulation.</li>\n",
    "</ul>\n",
    "</li>\n",
    "\n",
    "<li><strong>Pandas</strong>\n",
    "<ul>\n",
    "    <li>Provides DataFrame Object for data manipulation</li>\n",
    "    <li>DataFrames can hold different types data of multidimensional arrays.</li>\n",
    "</ul>\n",
    "</li>\n",
    "\n",
    "<li> <strong>Scikit-Learn</strong>\n",
    "<ul>\n",
    "    <li>It is a machine learning library.</li>\n",
    "    <li>We are using following from it:\n",
    "    <ul>\n",
    "        <li>train_test_split</li>\n",
    "        <li>DecisionTreeClassifier</li>\n",
    "        <li>accuracy_score algorithms</li>\n",
    "        <li>confusion_matrix</li>\n",
    "    </ul>\n",
    "    </li>\n",
    "</ul>\n",
    "</li>\n",
    "\n",
    "</p>\n",
    "\n",
    "\n",
    "<h2>Importing Python Machine Learning Libraries</h2>"
   ]
  },
  {
   "cell_type": "code",
   "execution_count": 14,
   "metadata": {},
   "outputs": [],
   "source": [
    "#Imports necessary libraries.\n",
    "import numpy as np\n",
    "import pandas as pd\n",
    "from sklearn.cross_validation import train_test_split\n",
    "from sklearn.tree import DecisionTreeClassifier\n",
    "from sklearn.metrics import confusion_matrix\n",
    "from sklearn.metrics import accuracy_score\n",
    "from sklearn import tree\n",
    "import warnings\n",
    "warnings.filterwarnings('ignore')"
   ]
  },
  {
   "cell_type": "markdown",
   "metadata": {},
   "source": [
    "<h2>Reading the data from csv file and displaying the five rows as sample data.</h2>"
   ]
  },
  {
   "cell_type": "code",
   "execution_count": 15,
   "metadata": {},
   "outputs": [
    {
     "data": {
      "text/html": [
       "<div>\n",
       "<style>\n",
       "    .dataframe thead tr:only-child th {\n",
       "        text-align: right;\n",
       "    }\n",
       "\n",
       "    .dataframe thead th {\n",
       "        text-align: left;\n",
       "    }\n",
       "\n",
       "    .dataframe tbody tr th {\n",
       "        vertical-align: top;\n",
       "    }\n",
       "</style>\n",
       "<table border=\"1\" class=\"dataframe\">\n",
       "  <thead>\n",
       "    <tr style=\"text-align: right;\">\n",
       "      <th></th>\n",
       "      <th>Unnamed: 0</th>\n",
       "      <th>X.2</th>\n",
       "      <th>X.1</th>\n",
       "      <th>X</th>\n",
       "      <th>Id</th>\n",
       "      <th>Date</th>\n",
       "      <th>ID</th>\n",
       "      <th>TurtleExactCountSC</th>\n",
       "      <th>turtleexactdiscretizeSC</th>\n",
       "      <th>TurtleExactCountNC</th>\n",
       "      <th>...</th>\n",
       "      <th>StationPressure_minmax</th>\n",
       "      <th>WindSpeed_minmax</th>\n",
       "      <th>Salinity_minmax</th>\n",
       "      <th>Turbidity_minmax</th>\n",
       "      <th>Dissolved02_minmax</th>\n",
       "      <th>WaterTemp_minmax</th>\n",
       "      <th>Turtle_minmax</th>\n",
       "      <th>Crablandings_minmax</th>\n",
       "      <th>turbidity_kmeans_binning</th>\n",
       "      <th>turbidty_domain</th>\n",
       "    </tr>\n",
       "  </thead>\n",
       "  <tbody>\n",
       "    <tr>\n",
       "      <th>0</th>\n",
       "      <td>1</td>\n",
       "      <td>1</td>\n",
       "      <td>1</td>\n",
       "      <td>1</td>\n",
       "      <td>4</td>\n",
       "      <td>5/4/2009</td>\n",
       "      <td>25</td>\n",
       "      <td>0.0</td>\n",
       "      <td>Low</td>\n",
       "      <td>0.0</td>\n",
       "      <td>...</td>\n",
       "      <td>0.578947</td>\n",
       "      <td>0.333333</td>\n",
       "      <td>0.636021</td>\n",
       "      <td>0.032566</td>\n",
       "      <td>0.741354</td>\n",
       "      <td>0.576733</td>\n",
       "      <td>0.000000</td>\n",
       "      <td>0.933566</td>\n",
       "      <td>Low</td>\n",
       "      <td>Low</td>\n",
       "    </tr>\n",
       "    <tr>\n",
       "      <th>1</th>\n",
       "      <td>2</td>\n",
       "      <td>2</td>\n",
       "      <td>2</td>\n",
       "      <td>2</td>\n",
       "      <td>5</td>\n",
       "      <td>5/5/2009</td>\n",
       "      <td>33</td>\n",
       "      <td>0.0</td>\n",
       "      <td>Low</td>\n",
       "      <td>0.0</td>\n",
       "      <td>...</td>\n",
       "      <td>0.649123</td>\n",
       "      <td>0.202614</td>\n",
       "      <td>0.552312</td>\n",
       "      <td>0.037936</td>\n",
       "      <td>0.675088</td>\n",
       "      <td>0.477558</td>\n",
       "      <td>0.000000</td>\n",
       "      <td>0.114510</td>\n",
       "      <td>Low</td>\n",
       "      <td>Medium</td>\n",
       "    </tr>\n",
       "    <tr>\n",
       "      <th>2</th>\n",
       "      <td>3</td>\n",
       "      <td>3</td>\n",
       "      <td>3</td>\n",
       "      <td>3</td>\n",
       "      <td>7</td>\n",
       "      <td>5/7/2009</td>\n",
       "      <td>49</td>\n",
       "      <td>1.0</td>\n",
       "      <td>Low</td>\n",
       "      <td>0.0</td>\n",
       "      <td>...</td>\n",
       "      <td>0.508772</td>\n",
       "      <td>0.405229</td>\n",
       "      <td>0.496314</td>\n",
       "      <td>0.027615</td>\n",
       "      <td>0.703665</td>\n",
       "      <td>0.498185</td>\n",
       "      <td>0.000000</td>\n",
       "      <td>0.925699</td>\n",
       "      <td>Low</td>\n",
       "      <td>Low</td>\n",
       "    </tr>\n",
       "    <tr>\n",
       "      <th>3</th>\n",
       "      <td>4</td>\n",
       "      <td>4</td>\n",
       "      <td>4</td>\n",
       "      <td>4</td>\n",
       "      <td>8</td>\n",
       "      <td>5/8/2009</td>\n",
       "      <td>57</td>\n",
       "      <td>0.0</td>\n",
       "      <td>Low</td>\n",
       "      <td>0.0</td>\n",
       "      <td>...</td>\n",
       "      <td>0.508772</td>\n",
       "      <td>0.267974</td>\n",
       "      <td>0.579198</td>\n",
       "      <td>0.020119</td>\n",
       "      <td>0.788776</td>\n",
       "      <td>0.575743</td>\n",
       "      <td>0.000000</td>\n",
       "      <td>0.296329</td>\n",
       "      <td>Low</td>\n",
       "      <td>Low</td>\n",
       "    </tr>\n",
       "    <tr>\n",
       "      <th>4</th>\n",
       "      <td>5</td>\n",
       "      <td>5</td>\n",
       "      <td>5</td>\n",
       "      <td>5</td>\n",
       "      <td>11</td>\n",
       "      <td>5/11/2009</td>\n",
       "      <td>81</td>\n",
       "      <td>2.0</td>\n",
       "      <td>Low</td>\n",
       "      <td>0.0</td>\n",
       "      <td>...</td>\n",
       "      <td>0.614035</td>\n",
       "      <td>0.385621</td>\n",
       "      <td>0.597837</td>\n",
       "      <td>0.066004</td>\n",
       "      <td>0.822323</td>\n",
       "      <td>0.627393</td>\n",
       "      <td>0.004785</td>\n",
       "      <td>0.994755</td>\n",
       "      <td>Low</td>\n",
       "      <td>Medium</td>\n",
       "    </tr>\n",
       "  </tbody>\n",
       "</table>\n",
       "<p>5 rows × 73 columns</p>\n",
       "</div>"
      ],
      "text/plain": [
       "   Unnamed: 0  X.2  X.1  X  Id       Date  ID  TurtleExactCountSC  \\\n",
       "0           1    1    1  1   4   5/4/2009  25                 0.0   \n",
       "1           2    2    2  2   5   5/5/2009  33                 0.0   \n",
       "2           3    3    3  3   7   5/7/2009  49                 1.0   \n",
       "3           4    4    4  4   8   5/8/2009  57                 0.0   \n",
       "4           5    5    5  5  11  5/11/2009  81                 2.0   \n",
       "\n",
       "  turtleexactdiscretizeSC  TurtleExactCountNC       ...        \\\n",
       "0                     Low                 0.0       ...         \n",
       "1                     Low                 0.0       ...         \n",
       "2                     Low                 0.0       ...         \n",
       "3                     Low                 0.0       ...         \n",
       "4                     Low                 0.0       ...         \n",
       "\n",
       "   StationPressure_minmax WindSpeed_minmax  Salinity_minmax Turbidity_minmax  \\\n",
       "0                0.578947         0.333333         0.636021         0.032566   \n",
       "1                0.649123         0.202614         0.552312         0.037936   \n",
       "2                0.508772         0.405229         0.496314         0.027615   \n",
       "3                0.508772         0.267974         0.579198         0.020119   \n",
       "4                0.614035         0.385621         0.597837         0.066004   \n",
       "\n",
       "  Dissolved02_minmax WaterTemp_minmax Turtle_minmax Crablandings_minmax  \\\n",
       "0           0.741354         0.576733      0.000000            0.933566   \n",
       "1           0.675088         0.477558      0.000000            0.114510   \n",
       "2           0.703665         0.498185      0.000000            0.925699   \n",
       "3           0.788776         0.575743      0.000000            0.296329   \n",
       "4           0.822323         0.627393      0.004785            0.994755   \n",
       "\n",
       "  turbidity_kmeans_binning turbidty_domain  \n",
       "0                      Low             Low  \n",
       "1                      Low          Medium  \n",
       "2                      Low             Low  \n",
       "3                      Low             Low  \n",
       "4                      Low          Medium  \n",
       "\n",
       "[5 rows x 73 columns]"
      ]
     },
     "execution_count": 15,
     "metadata": {},
     "output_type": "execute_result"
    }
   ],
   "source": [
    "data = pd.read_csv('WEKAFinalInputFile.csv',header=0, low_memory=False)\n",
    "data.head()"
   ]
  },
  {
   "cell_type": "markdown",
   "metadata": {},
   "source": [
    "<h2>Display total rows and columns of dataset</h2>"
   ]
  },
  {
   "cell_type": "code",
   "execution_count": 16,
   "metadata": {},
   "outputs": [
    {
     "name": "stdout",
     "output_type": "stream",
     "text": [
      "(186, 73)\n"
     ]
    }
   ],
   "source": [
    "#data.describe()\n",
    "#train=data.sample(frac=0.8,random_state=200)\n",
    "#test=data.drop(train.index)\n",
    "#print(len(train))\n",
    "#print(len(test))\n",
    "print (data.shape)"
   ]
  },
  {
   "cell_type": "markdown",
   "metadata": {},
   "source": [
    "<h2>Extracting the necessary attributes</h2>"
   ]
  },
  {
   "cell_type": "code",
   "execution_count": 17,
   "metadata": {},
   "outputs": [
    {
     "data": {
      "text/html": [
       "<div>\n",
       "<style>\n",
       "    .dataframe thead tr:only-child th {\n",
       "        text-align: right;\n",
       "    }\n",
       "\n",
       "    .dataframe thead th {\n",
       "        text-align: left;\n",
       "    }\n",
       "\n",
       "    .dataframe tbody tr th {\n",
       "        vertical-align: top;\n",
       "    }\n",
       "</style>\n",
       "<table border=\"1\" class=\"dataframe\">\n",
       "  <thead>\n",
       "    <tr style=\"text-align: right;\">\n",
       "      <th></th>\n",
       "      <th>WindSpeed_minmax</th>\n",
       "      <th>Turbidity_minmax</th>\n",
       "      <th>Turtle_minmax</th>\n",
       "      <th>Crablandings_minmax</th>\n",
       "      <th>WaterTemp_minmax</th>\n",
       "      <th>Precipitation_minmax</th>\n",
       "      <th>Salinity_minmax</th>\n",
       "    </tr>\n",
       "  </thead>\n",
       "  <tbody>\n",
       "    <tr>\n",
       "      <th>0</th>\n",
       "      <td>0.333333</td>\n",
       "      <td>0.032566</td>\n",
       "      <td>0.000000</td>\n",
       "      <td>0.933566</td>\n",
       "      <td>0.576733</td>\n",
       "      <td>0.000000</td>\n",
       "      <td>0.636021</td>\n",
       "    </tr>\n",
       "    <tr>\n",
       "      <th>1</th>\n",
       "      <td>0.202614</td>\n",
       "      <td>0.037936</td>\n",
       "      <td>0.000000</td>\n",
       "      <td>0.114510</td>\n",
       "      <td>0.477558</td>\n",
       "      <td>0.054286</td>\n",
       "      <td>0.552312</td>\n",
       "    </tr>\n",
       "    <tr>\n",
       "      <th>2</th>\n",
       "      <td>0.405229</td>\n",
       "      <td>0.027615</td>\n",
       "      <td>0.000000</td>\n",
       "      <td>0.925699</td>\n",
       "      <td>0.498185</td>\n",
       "      <td>0.000000</td>\n",
       "      <td>0.496314</td>\n",
       "    </tr>\n",
       "    <tr>\n",
       "      <th>3</th>\n",
       "      <td>0.267974</td>\n",
       "      <td>0.020119</td>\n",
       "      <td>0.000000</td>\n",
       "      <td>0.296329</td>\n",
       "      <td>0.575743</td>\n",
       "      <td>0.000000</td>\n",
       "      <td>0.579198</td>\n",
       "    </tr>\n",
       "    <tr>\n",
       "      <th>4</th>\n",
       "      <td>0.385621</td>\n",
       "      <td>0.066004</td>\n",
       "      <td>0.004785</td>\n",
       "      <td>0.994755</td>\n",
       "      <td>0.627393</td>\n",
       "      <td>0.000000</td>\n",
       "      <td>0.597837</td>\n",
       "    </tr>\n",
       "  </tbody>\n",
       "</table>\n",
       "</div>"
      ],
      "text/plain": [
       "   WindSpeed_minmax  Turbidity_minmax  Turtle_minmax  Crablandings_minmax  \\\n",
       "0          0.333333          0.032566       0.000000             0.933566   \n",
       "1          0.202614          0.037936       0.000000             0.114510   \n",
       "2          0.405229          0.027615       0.000000             0.925699   \n",
       "3          0.267974          0.020119       0.000000             0.296329   \n",
       "4          0.385621          0.066004       0.004785             0.994755   \n",
       "\n",
       "   WaterTemp_minmax  Precipitation_minmax  Salinity_minmax  \n",
       "0          0.576733              0.000000         0.636021  \n",
       "1          0.477558              0.054286         0.552312  \n",
       "2          0.498185              0.000000         0.496314  \n",
       "3          0.575743              0.000000         0.579198  \n",
       "4          0.627393              0.000000         0.597837  "
      ]
     },
     "execution_count": 17,
     "metadata": {},
     "output_type": "execute_result"
    }
   ],
   "source": [
    "X = data[[\"WindSpeed_minmax\",\"Turbidity_minmax\",\"Turtle_minmax\",\"Crablandings_minmax\",\"WaterTemp_minmax\",\"Precipitation_minmax\",\"Salinity_minmax\"]]\n",
    "Y = data[[\"Attack\"]]\n",
    "X.head()\n",
    "#X_train, X_test, y_train, y_test = train_test_split( X, Y, test_size = 0.2, random_state = 100)"
   ]
  },
  {
   "cell_type": "code",
   "execution_count": 18,
   "metadata": {},
   "outputs": [
    {
     "data": {
      "text/html": [
       "<div>\n",
       "<style>\n",
       "    .dataframe thead tr:only-child th {\n",
       "        text-align: right;\n",
       "    }\n",
       "\n",
       "    .dataframe thead th {\n",
       "        text-align: left;\n",
       "    }\n",
       "\n",
       "    .dataframe tbody tr th {\n",
       "        vertical-align: top;\n",
       "    }\n",
       "</style>\n",
       "<table border=\"1\" class=\"dataframe\">\n",
       "  <thead>\n",
       "    <tr style=\"text-align: right;\">\n",
       "      <th></th>\n",
       "      <th>Attack</th>\n",
       "    </tr>\n",
       "  </thead>\n",
       "  <tbody>\n",
       "    <tr>\n",
       "      <th>0</th>\n",
       "      <td>No</td>\n",
       "    </tr>\n",
       "    <tr>\n",
       "      <th>1</th>\n",
       "      <td>No</td>\n",
       "    </tr>\n",
       "    <tr>\n",
       "      <th>2</th>\n",
       "      <td>No</td>\n",
       "    </tr>\n",
       "    <tr>\n",
       "      <th>3</th>\n",
       "      <td>No</td>\n",
       "    </tr>\n",
       "    <tr>\n",
       "      <th>4</th>\n",
       "      <td>No</td>\n",
       "    </tr>\n",
       "  </tbody>\n",
       "</table>\n",
       "</div>"
      ],
      "text/plain": [
       "  Attack\n",
       "0     No\n",
       "1     No\n",
       "2     No\n",
       "3     No\n",
       "4     No"
      ]
     },
     "execution_count": 18,
     "metadata": {},
     "output_type": "execute_result"
    }
   ],
   "source": [
    "Y.head()"
   ]
  },
  {
   "cell_type": "markdown",
   "metadata": {},
   "source": [
    "<h2>Slicing data into training and test set</h2>"
   ]
  },
  {
   "cell_type": "code",
   "execution_count": 19,
   "metadata": {},
   "outputs": [],
   "source": [
    "X_train, X_test, y_train, y_test = train_test_split( X, Y, test_size = 0.2, random_state = 100)"
   ]
  },
  {
   "cell_type": "markdown",
   "metadata": {},
   "source": [
    "<h2>Training Decision Tree</h2>"
   ]
  },
  {
   "cell_type": "code",
   "execution_count": 27,
   "metadata": {},
   "outputs": [
    {
     "data": {
      "text/plain": [
       "DecisionTreeClassifier(class_weight=None, criterion='gini', max_depth=None,\n",
       "            max_features=None, max_leaf_nodes=None,\n",
       "            min_impurity_split=1e-07, min_samples_leaf=1,\n",
       "            min_samples_split=2, min_weight_fraction_leaf=0.0,\n",
       "            presort=False, random_state=None, splitter='best')"
      ]
     },
     "execution_count": 27,
     "metadata": {},
     "output_type": "execute_result"
    }
   ],
   "source": [
    "decision_tree_model = DecisionTreeClassifier()\n",
    "decision_tree_model.fit(X_train, y_train)"
   ]
  },
  {
   "cell_type": "markdown",
   "metadata": {},
   "source": [
    "<h2>To predict target variable for the complete test data set</h2>"
   ]
  },
  {
   "cell_type": "code",
   "execution_count": 28,
   "metadata": {},
   "outputs": [
    {
     "data": {
      "text/plain": [
       "array(['No', 'Yes', 'No', 'No', 'No', 'No', 'No', 'Yes', 'No', 'Yes', 'No',\n",
       "       'Yes', 'No', 'No', 'Yes', 'Yes', 'Yes', 'No', 'Yes', 'No', 'Yes',\n",
       "       'No', 'Yes', 'Yes', 'No', 'Yes', 'No', 'Yes', 'Yes', 'Yes', 'Yes',\n",
       "       'Yes', 'No', 'No', 'Yes', 'Yes', 'No', 'No'], dtype=object)"
      ]
     },
     "execution_count": 28,
     "metadata": {},
     "output_type": "execute_result"
    }
   ],
   "source": [
    "y_pred = decision_tree_model.predict(X_test)\n",
    "y_pred"
   ]
  },
  {
   "cell_type": "markdown",
   "metadata": {},
   "source": [
    "<h2>Calculating accuracy for Decision Tree Model</h2>"
   ]
  },
  {
   "cell_type": "code",
   "execution_count": 31,
   "metadata": {},
   "outputs": [
    {
     "data": {
      "text/plain": [
       "92.10526315789474"
      ]
     },
     "execution_count": 31,
     "metadata": {},
     "output_type": "execute_result"
    }
   ],
   "source": [
    "accuracy_score(y_test,y_pred)*100"
   ]
  },
  {
   "cell_type": "markdown",
   "metadata": {},
   "source": [
    "<h2>Confusion matrix for Decision Tree Model</h2>"
   ]
  },
  {
   "cell_type": "code",
   "execution_count": 30,
   "metadata": {},
   "outputs": [
    {
     "data": {
      "text/html": [
       "<div>\n",
       "<style>\n",
       "    .dataframe thead tr:only-child th {\n",
       "        text-align: right;\n",
       "    }\n",
       "\n",
       "    .dataframe thead th {\n",
       "        text-align: left;\n",
       "    }\n",
       "\n",
       "    .dataframe tbody tr th {\n",
       "        vertical-align: top;\n",
       "    }\n",
       "</style>\n",
       "<table border=\"1\" class=\"dataframe\">\n",
       "  <thead>\n",
       "    <tr style=\"text-align: right;\">\n",
       "      <th></th>\n",
       "      <th>Predicted(Not Attacked)</th>\n",
       "      <th>Predicted(Attacked)</th>\n",
       "    </tr>\n",
       "  </thead>\n",
       "  <tbody>\n",
       "    <tr>\n",
       "      <th>True(Not Attacked)</th>\n",
       "      <td>17</td>\n",
       "      <td>1</td>\n",
       "    </tr>\n",
       "    <tr>\n",
       "      <th>True(Attacked)</th>\n",
       "      <td>2</td>\n",
       "      <td>18</td>\n",
       "    </tr>\n",
       "  </tbody>\n",
       "</table>\n",
       "</div>"
      ],
      "text/plain": [
       "                    Predicted(Not Attacked)  Predicted(Attacked)\n",
       "True(Not Attacked)                       17                    1\n",
       "True(Attacked)                            2                   18"
      ]
     },
     "execution_count": 30,
     "metadata": {},
     "output_type": "execute_result"
    }
   ],
   "source": [
    "pd.DataFrame(\n",
    "    confusion_matrix(y_test, y_pred),\n",
    "    columns=['Predicted(Not Attacked)', 'Predicted(Attacked)'],\n",
    "    index=['True(Not Attacked)', 'True(Attacked)'])"
   ]
  },
  {
   "cell_type": "markdown",
   "metadata": {},
   "source": [
    "<h2>Conclusion</h2>\n",
    "<p>Decision Trees performs well on this limited set of data. We would need more data to effectively evaluate this model.</p>\n",
    "<p>In this research I have learned following things\n",
    " <ul>\n",
    "<li>How to model the decision tree algorithm in Python using scikit learn. </li>\n",
    "<li>How to split the data into training and test dataset </li>\n",
    "<li>To model decision tree classifier </li>\n",
    "<li>Calculate the accuracy and confusion matrix of decision tree</li>\n",
    "</ul></p>"
   ]
  }
 ],
 "metadata": {
  "kernelspec": {
   "display_name": "Python 3",
   "language": "python",
   "name": "python3"
  },
  "language_info": {
   "codemirror_mode": {
    "name": "ipython",
    "version": 3
   },
   "file_extension": ".py",
   "mimetype": "text/x-python",
   "name": "python",
   "nbconvert_exporter": "python",
   "pygments_lexer": "ipython3",
   "version": "3.6.1"
  }
 },
 "nbformat": 4,
 "nbformat_minor": 2
}
